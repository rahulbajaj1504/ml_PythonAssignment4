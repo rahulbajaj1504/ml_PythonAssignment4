{
  "nbformat": 4,
  "nbformat_minor": 0,
  "metadata": {
    "colab": {
      "name": "PythonAssignment4.ipynb",
      "provenance": []
    },
    "kernelspec": {
      "name": "python3",
      "display_name": "Python 3"
    }
  },
  "cells": [
    {
      "cell_type": "markdown",
      "metadata": {
        "id": "jJNxTCg4oiVb",
        "colab_type": "text"
      },
      "source": [
        "1.1 Write a Python Program(with class concepts) to find the area of the triangle using the below\n",
        "formula.\n",
        "area = (s*(s-a)*(s-b)*(s-c)) ** 0.5\n",
        "Function to take the length of the sides of triangle from user should be defined in the parent\n",
        "class and function to calculate the area should be defined in subclass.\n"
      ]
    },
    {
      "cell_type": "code",
      "metadata": {
        "id": "MNfs3lowone0",
        "colab_type": "code",
        "colab": {
          "base_uri": "https://localhost:8080/",
          "height": 103
        },
        "outputId": "953a5f5b-f7f3-4eea-9d8f-940239a61def"
      },
      "source": [
        "class A:\n",
        "    def __init__(self,a,b,c,s):\n",
        "        self.a=a\n",
        "        self.b=b\n",
        "        self.c=c\n",
        "        self.s=s\n",
        "\n",
        "class B(A):\n",
        "    def __init__(self,*args):\n",
        "        super(B,self).__init__(*args)\n",
        "    def area(self):\n",
        "        return str((self.s*(self.s-self.a)*(self.s-self.b)*(self.s-self.c))**0.5)\n",
        "\n",
        "a1=float(input())\n",
        "a2=float(input())\n",
        "a3=float(input())\n",
        "a4=float(input())\n",
        "b=B(a1,a2,a3,a4)\n",
        "b.area()"
      ],
      "execution_count": null,
      "outputs": [
        {
          "output_type": "stream",
          "text": [
            "3\n",
            "4\n",
            "5\n",
            "10\n"
          ],
          "name": "stdout"
        },
        {
          "output_type": "execute_result",
          "data": {
            "application/vnd.google.colaboratory.intrinsic+json": {
              "type": "string"
            },
            "text/plain": [
              "'45.8257569495584'"
            ]
          },
          "metadata": {
            "tags": []
          },
          "execution_count": 1
        }
      ]
    },
    {
      "cell_type": "markdown",
      "metadata": {
        "id": "wMoIZW1Cozxs",
        "colab_type": "text"
      },
      "source": [
        "1.2 Write a function filter_long_words() that takes a list of words and an integer n and returns\n",
        "the list of words that are longer than n.\n"
      ]
    },
    {
      "cell_type": "code",
      "metadata": {
        "id": "WtPGdp6Io7_H",
        "colab_type": "code",
        "colab": {
          "base_uri": "https://localhost:8080/",
          "height": 34
        },
        "outputId": "2860d2d6-f95c-42e6-e0eb-f12e1c270e9c"
      },
      "source": [
        "l=['hello','hi','galaxy','travel','USA']\n",
        "def filter_long_words(lst,n):\n",
        "    a=filter(lambda x: len(x)>n, lst)\n",
        "    return a\n",
        "list(filter_long_words(l,3))"
      ],
      "execution_count": null,
      "outputs": [
        {
          "output_type": "execute_result",
          "data": {
            "text/plain": [
              "['hello', 'galaxy', 'travel']"
            ]
          },
          "metadata": {
            "tags": []
          },
          "execution_count": 2
        }
      ]
    },
    {
      "cell_type": "markdown",
      "metadata": {
        "id": "e6AlAqkto_xc",
        "colab_type": "text"
      },
      "source": [
        "2.1 Write a Python program using function concept that maps list of words into a list of integers\n",
        "representing the lengths of the corresponding words.\n",
        "Hint: If a list [ ab,cde,erty] is passed on to the python function output should come as [2,3,4]\n",
        "Here 2,3 and 4 are the lengths of the words in the list.\n"
      ]
    },
    {
      "cell_type": "code",
      "metadata": {
        "id": "goNG2yofpDpj",
        "colab_type": "code",
        "colab": {
          "base_uri": "https://localhost:8080/",
          "height": 34
        },
        "outputId": "920a487d-6d49-4b0d-d88e-ac0a23327e47"
      },
      "source": [
        "l=['hello','hi','galaxy','travel','USA']\n",
        "l1=[]\n",
        "def check(lst):\n",
        "    for i in lst:\n",
        "        l1.append(len(i))\n",
        "    return l1\n",
        "check(l)"
      ],
      "execution_count": null,
      "outputs": [
        {
          "output_type": "execute_result",
          "data": {
            "text/plain": [
              "[5, 2, 6, 6, 3]"
            ]
          },
          "metadata": {
            "tags": []
          },
          "execution_count": 3
        }
      ]
    },
    {
      "cell_type": "code",
      "metadata": {
        "id": "-JksKPlxpF_I",
        "colab_type": "code",
        "colab": {
          "base_uri": "https://localhost:8080/",
          "height": 34
        },
        "outputId": "e132e956-dc02-494e-ea02-f9ab1fe9bab1"
      },
      "source": [
        "[len(i) for i in l]"
      ],
      "execution_count": null,
      "outputs": [
        {
          "output_type": "execute_result",
          "data": {
            "text/plain": [
              "[5, 2, 6, 6, 3]"
            ]
          },
          "metadata": {
            "tags": []
          },
          "execution_count": 4
        }
      ]
    },
    {
      "cell_type": "markdown",
      "metadata": {
        "id": "XGjcsam2pLIX",
        "colab_type": "text"
      },
      "source": [
        ""
      ]
    },
    {
      "cell_type": "markdown",
      "metadata": {
        "id": "g8Iz_3KypP1K",
        "colab_type": "text"
      },
      "source": [
        "2.2 Write a Python function which takes a character (i.e. a string of length 1) and returns True if\n",
        "it is a vowel, False otherwise.\n"
      ]
    },
    {
      "cell_type": "code",
      "metadata": {
        "id": "TrNZYHRPpQW0",
        "colab_type": "code",
        "colab": {
          "base_uri": "https://localhost:8080/",
          "height": 34
        },
        "outputId": "e3b3119d-ceea-435a-ccfb-f146c12d59cd"
      },
      "source": [
        "def check(n):\n",
        "    if (n=='a' or n=='e' or n=='i' or n=='o' or n=='u'):\n",
        "        return True\n",
        "    return False\n",
        "check('a')"
      ],
      "execution_count": null,
      "outputs": [
        {
          "output_type": "execute_result",
          "data": {
            "text/plain": [
              "True"
            ]
          },
          "metadata": {
            "tags": []
          },
          "execution_count": 5
        }
      ]
    }
  ]
}